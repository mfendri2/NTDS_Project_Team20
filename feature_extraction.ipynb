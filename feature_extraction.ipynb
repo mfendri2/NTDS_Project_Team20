{
 "cells": [
  {
   "cell_type": "code",
   "execution_count": 1,
   "metadata": {},
   "outputs": [],
   "source": [
    "import numpy as np\n",
    "from numpy import linalg as LA\n",
    "import pandas as pd\n",
    "import matplotlib.pyplot as plt\n",
    "from scipy.sparse import csr_matrix\n",
    "import networkx as nx\n",
    "import collections"
   ]
  },
  {
   "cell_type": "code",
   "execution_count": 2,
   "metadata": {},
   "outputs": [],
   "source": [
    "all_users=pd.read_csv('data/usersdata.csv',sep='\\t',names = [\"User Id\", \"Gender\", \"Time\", \"Age Range\",\"Spammer_Label\"])"
   ]
  },
  {
   "cell_type": "code",
   "execution_count": 3,
   "metadata": {},
   "outputs": [],
   "source": [
    "features = all_users\n",
    "relations_1= pd.read_csv('data/filtered_relations_1.csv')\n",
    "relations_2= pd.read_csv('data/filtered_relations_2.csv')\n",
    "relations_4= pd.read_csv('data/filtered_relations_4.csv')\n",
    "relations_5= pd.read_csv('data/filtered_relations.csv')\n",
    "relations_7= pd.read_csv('data/filtered_relations_7.csv')"
   ]
  },
  {
   "cell_type": "code",
   "execution_count": 4,
   "metadata": {},
   "outputs": [],
   "source": [
    "nodes = features[['User Id','Spammer_Label']] \n",
    "nodes_df = pd.DataFrame()\n",
    "nodes_df[\"node\"]=nodes[\"User Id\"]\n",
    "\n",
    "nodes_df[\"time\"]=features[\"Time\"]\n",
    "nodes_df[\"age\"]=(features[\"Age Range\"]//10)\n",
    "nodes_df[\"gender\"]=features[\"Gender\"]\n",
    "nodes_df[\"pagerank\"]=np.nan\n",
    "#nodes_df[\"k_core\"]=np.nan\n",
    "#nodes_df[\"greedy_color\"]=np.nan\n",
    "nodes_df[\"in_deg\"]=np.nan\n",
    "nodes_df[\"out_deg\"]=np.nan\n",
    "nodes_df[\"deg\"]=np.nan\n",
    "nodes_df[\"cluster_coeff\"]=np.nan\n",
    "nodes_df[\"in_deg_cent\"]=np.nan\n",
    "nodes_df[\"out_deg_cent\"]=np.nan\n",
    "nodes_df[\"deg_cent\"]=np.nan\n",
    "nodes_df[\"triang_count\"]=np.nan"
   ]
  },
  {
   "cell_type": "code",
   "execution_count": 5,
   "metadata": {},
   "outputs": [],
   "source": [
    "def create_graph_feature(features,relations,num_rel,nodes_df):\n",
    "    \"\"\"Calculate the graph based features for one relation subgraph.\n",
    "\n",
    "    Parameters\n",
    "    ----------\n",
    "        features  : Pandas DataFrame containing all the users Id (nodes) \n",
    "\n",
    "        relations : Pandas DataFrame containing all the edges for one relation subgraph\n",
    "        \n",
    "        num_rel   : integer indicating the relation index \n",
    "        \n",
    "        nodes_df  : Pandas dataframe with the content based features\n",
    "                    \n",
    "    Returns\n",
    "    -------\n",
    "        df        : Pandas DataFrame: Containing all the nodes in rows and the computed features \n",
    "                    in column \n",
    "        \n",
    "    \"\"\" \n",
    "    df=nodes_df\n",
    "    strs='_'+str(num_rel)\n",
    "    edges = relations[['src','dst']]\n",
    "    nodes = features[['User Id','Spammer_Label']] \n",
    "    edges=edges.join(nodes,on='dst')\n",
    "    edges=edges.join(nodes,on='src',rsuffix='_parent')\n",
    "    edges=edges.drop(columns=['src','dst'])\n",
    "    edges2=edges[['User Id_parent','User Id','Spammer_Label_parent']]\n",
    "    edges2 = edges2.rename(columns={'User Id_parent': 'src'})\n",
    "    edges2 = edges2.rename(columns={'User Id': 'trg'})\n",
    "    edges2 = edges2.rename(columns={'Spammer_Label_parent': 'label'})\n",
    "    graph_dir=nx.from_pandas_edgelist(edges2, source='src',target='trg',create_using=nx.DiGraph())\n",
    "    graph_undir=nx.from_pandas_edgelist(edges2, source='src',target='trg')\n",
    "    namegraph='relation'+strs\n",
    "    nx.write_gexf(graph_dir,namegraph)\n",
    "    \n",
    "    page_rank_graph=nx.pagerank(graph_dir, alpha=0.85)\n",
    "    od = collections.OrderedDict(sorted(page_rank_graph.items()))\n",
    "    od_df=pd.DataFrame.from_dict(od, orient='index', columns=['pagerank'])\n",
    "    df=df.join(od_df,rsuffix=strs,on='node')\n",
    "    \n",
    "    cluster_coef=nx.clustering(graph_undir)\n",
    "    od = collections.OrderedDict(sorted(cluster_coef.items()))\n",
    "    od_df=pd.DataFrame.from_dict(od, orient='index', columns=['cluster_coeff'])\n",
    "    df=df.join(od_df,rsuffix=strs,on='node')\n",
    "    \n",
    "    #corenum=nx.core_number(graph_dir)\n",
    "    #od = collections.OrderedDict(sorted(corenum.items()))\n",
    "    #od_df=pd.DataFrame.from_dict(od, orient='index', columns=['k_core'])\n",
    "    #df=df.join(od_df,rsuffix=strs,on='node')\n",
    "    \n",
    "    #greedy_color=nx.greedy_color(graph_dir)\n",
    "    #od = collections.OrderedDict(sorted(greedy_color.items()))\n",
    "    #od_df=pd.DataFrame.from_dict(od, orient='index', columns=['greedy_color'])\n",
    "    #df=df.join(od_df,rsuffix=strs,on='node')\n",
    "    \n",
    "    out_deg_centr=nx.out_degree_centrality(graph_dir)\n",
    "    in_deg_centr=nx.in_degree_centrality(graph_dir)\n",
    "    deg_cent=nx.degree_centrality(graph_dir)\n",
    "    out_deg=graph_dir.out_degree()\n",
    "    in_deg=graph_dir.in_degree()\n",
    "    deg=graph_dir.degree()\n",
    "    \n",
    "    od = collections.OrderedDict(sorted(in_deg_centr.items()))\n",
    "    od_df=pd.DataFrame.from_dict(od, orient='index', columns=['in_deg_cent'])\n",
    "    df=df.join(od_df,rsuffix=strs,on='node')\n",
    "    od = collections.OrderedDict(sorted(out_deg_centr.items()))\n",
    "    od_df=pd.DataFrame.from_dict(od, orient='index', columns=['out_deg_cent'])\n",
    "    df=df.join(od_df,rsuffix=strs,on='node')\n",
    "    od = collections.OrderedDict(sorted(deg_cent.items()))\n",
    "    od_df=pd.DataFrame.from_dict(od, orient='index', columns=['deg_cent'])\n",
    "    df=df.join(od_df,rsuffix=strs,on='node')\n",
    "    \n",
    "    in_deg=dict(in_deg)\n",
    "    out_deg=dict(out_deg)\n",
    "    deg=dict(deg)\n",
    "    od = collections.OrderedDict(sorted(in_deg.items()))\n",
    "    od_df=pd.DataFrame.from_dict(od, orient='index', columns=['in_deg'])\n",
    "    df=df.join(od_df,rsuffix=strs,on='node')\n",
    "    od = collections.OrderedDict(sorted(out_deg.items()))\n",
    "    od_df=pd.DataFrame.from_dict(od, orient='index', columns=['out_deg'])\n",
    "    df=df.join(od_df,rsuffix=strs,on='node')\n",
    "    od = collections.OrderedDict(sorted(deg.items()))\n",
    "    od_df=pd.DataFrame.from_dict(od, orient='index', columns=['deg'])\n",
    "    df=df.join(od_df,rsuffix=strs,on='node')\n",
    "    \n",
    "    triang=nx.triangles(graph_undir)\n",
    "    od = collections.OrderedDict(sorted(triang.items()))\n",
    "    od_df=pd.DataFrame.from_dict(od, orient='index', columns=['triang_count'])\n",
    "    df=df.join(od_df,rsuffix=strs,on='node')\n",
    "    \n",
    "    return df "
   ]
  },
  {
   "cell_type": "code",
   "execution_count": 6,
   "metadata": {},
   "outputs": [
    {
     "name": "stdout",
     "output_type": "stream",
     "text": [
      "DONE\n",
      "DONE\n",
      "DONE\n",
      "DONE\n",
      "DONE\n"
     ]
    }
   ],
   "source": [
    "nodes_df=create_graph_feature(features,relations_1,1,nodes_df)\n",
    "print(\"DONE\")\n",
    "nodes_df=create_graph_feature(features,relations_2,2,nodes_df)\n",
    "print(\"DONE\")\n",
    "nodes_df=create_graph_feature(features,relations_4,4,nodes_df)\n",
    "print(\"DONE\")\n",
    "nodes_df=create_graph_feature(features,relations_5,5,nodes_df)\n",
    "print(\"DONE\")\n",
    "nodes_df=create_graph_feature(features,relations_7,7,nodes_df)\n",
    "print(\"DONE\")"
   ]
  },
  {
   "cell_type": "code",
   "execution_count": 10,
   "metadata": {},
   "outputs": [],
   "source": [
    "nodes_df=nodes_df.drop(columns=['pagerank','cluster_coeff','in_deg','in_deg_cent','out_deg','out_deg_cent','deg','deg_cent','triang_count'])"
   ]
  },
  {
   "cell_type": "code",
   "execution_count": 11,
   "metadata": {},
   "outputs": [],
   "source": [
    "nodes_df['label']=nodes['Spammer_Label']"
   ]
  },
  {
   "cell_type": "code",
   "execution_count": 21,
   "metadata": {},
   "outputs": [
    {
     "data": {
      "text/plain": [
       "(5607447, 50)"
      ]
     },
     "execution_count": 21,
     "metadata": {},
     "output_type": "execute_result"
    }
   ],
   "source": [
    "nodes_df.shape"
   ]
  },
  {
   "cell_type": "code",
   "execution_count": 20,
   "metadata": {},
   "outputs": [],
   "source": [
    "num_of_nan=nodes_df.shape[1]-6\n",
    "nodes_df2=nodes_df\n",
    "nodes_df2=nodes_df2.dropna(thresh=(len(nodes_df2.columns) -num_of_nan))"
   ]
  },
  {
   "cell_type": "code",
   "execution_count": 22,
   "metadata": {},
   "outputs": [
    {
     "data": {
      "text/plain": [
       "(783122, 50)"
      ]
     },
     "execution_count": 22,
     "metadata": {},
     "output_type": "execute_result"
    }
   ],
   "source": [
    "nodes_df2.shape"
   ]
  },
  {
   "cell_type": "code",
   "execution_count": 23,
   "metadata": {},
   "outputs": [],
   "source": [
    "nodes_df2.to_csv('datasets_final2.csv',index=False)"
   ]
  },
  {
   "cell_type": "code",
   "execution_count": null,
   "metadata": {},
   "outputs": [],
   "source": []
  }
 ],
 "metadata": {
  "kernelspec": {
   "display_name": "Python 3",
   "language": "python",
   "name": "python3"
  },
  "language_info": {
   "codemirror_mode": {
    "name": "ipython",
    "version": 3
   },
   "file_extension": ".py",
   "mimetype": "text/x-python",
   "name": "python",
   "nbconvert_exporter": "python",
   "pygments_lexer": "ipython3",
   "version": "3.6.5"
  }
 },
 "nbformat": 4,
 "nbformat_minor": 2
}
